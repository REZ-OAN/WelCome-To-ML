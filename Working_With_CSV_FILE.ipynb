{
  "nbformat": 4,
  "nbformat_minor": 0,
  "metadata": {
    "colab": {
      "provenance": [],
      "authorship_tag": "ABX9TyOkc47Q2OXrhchURY3ozszZ",
      "include_colab_link": true
    },
    "kernelspec": {
      "name": "python3",
      "display_name": "Python 3"
    },
    "language_info": {
      "name": "python"
    }
  },
  "cells": [
    {
      "cell_type": "markdown",
      "metadata": {
        "id": "view-in-github",
        "colab_type": "text"
      },
      "source": [
        "<a href=\"https://colab.research.google.com/github/REZ-OAN/WelCone-To-ML/blob/main/Working_With_CSV_FILE.ipynb\" target=\"_parent\"><img src=\"https://colab.research.google.com/assets/colab-badge.svg\" alt=\"Open In Colab\"/></a>"
      ]
    },
    {
      "cell_type": "markdown",
      "source": [
        "To work with csv files you need to import pandas \n",
        "reference\n",
        "**[Pandas.read_csv](https://pandas.pydata.org/docs/reference/api/pandas.read_csv.html)**"
      ],
      "metadata": {
        "id": "wYOV8AznsC2M"
      }
    },
    {
      "cell_type": "code",
      "execution_count": 1,
      "metadata": {
        "id": "tGWCl68ZoL_N"
      },
      "outputs": [],
      "source": [
        "import pandas as pd"
      ]
    },
    {
      "cell_type": "code",
      "source": [
        "## ImPort Files From Local ComPuter\n",
        "DataFrame = pd.read_csv('/tmdb_5000_movies.csv')\n"
      ],
      "metadata": {
        "id": "bq4bwv9mxqO2"
      },
      "execution_count": null,
      "outputs": []
    },
    {
      "cell_type": "code",
      "source": [
        "DataFrame\n"
      ],
      "metadata": {
        "id": "7r7VeFPwx5_H"
      },
      "execution_count": null,
      "outputs": []
    },
    {
      "cell_type": "code",
      "source": [
        "## imPort files from LINks\n",
        "## some default code siNNiPts\n",
        "'''\n",
        "   IN future if you waNt to work with liNks you have to use the default \n",
        "   code which is here aNd just chaNge the liNks\n",
        "'''\n",
        "import requests\n",
        "from io import StringIO\n",
        "import requests\n",
        "from io import StringIO\n",
        "\n",
        "url = \"https://raw.githubusercontent.com/cs109/2014_data/master/countries.csv\"\n",
        "headers = {\"User-Agent\": \"Mozilla/5.0 (Macintosh; Intel Mac OS X 10.14; rv:66.0) Gecko/20100101 Firefox/66.0\"}\n",
        "req = requests.get(url, headers=headers)\n",
        "data = StringIO(req.text)\n",
        "df = pd.read_csv(data)\n",
        "\n"
      ],
      "metadata": {
        "id": "ajIUy8IPy2bE"
      },
      "execution_count": 2,
      "outputs": []
    },
    {
      "cell_type": "code",
      "source": [
        "df"
      ],
      "metadata": {
        "id": "F6879_yM1PKp"
      },
      "execution_count": null,
      "outputs": []
    },
    {
      "cell_type": "code",
      "source": [
        "'''\n",
        " seP Parameter chaNge aNd give ColumN Name usiNg Names Parameter\n",
        " when columns are not present\n",
        "'''\n",
        "url =\"https://raw.githubusercontent.com/campusx-official/100-days-of-machine-learning/main/day15%20-%20working%20with%20csv%20files/movie_titles_metadata.tsv\"\n",
        "req = requests.get(url, headers=headers)\n",
        "Data = StringIO(req.text)\n",
        "Df = pd.read_csv(Data,sep = '\\t',names = ['sNo','Name','Release Year','Rating','Votes','Genre'])"
      ],
      "metadata": {
        "id": "GhZubX5r6boS"
      },
      "execution_count": null,
      "outputs": []
    },
    {
      "cell_type": "code",
      "source": [
        "Df\n"
      ],
      "metadata": {
        "id": "-WEquJ5p6qn7"
      },
      "execution_count": null,
      "outputs": []
    },
    {
      "cell_type": "code",
      "source": [
        "## we caN chaNge the default iNdexiNg system iN PaNdas \n",
        "DataFrame = pd.read_csv('/tmdb_5000_movies.csv',index_col='id')\n",
        "DataFrame\n"
      ],
      "metadata": {
        "id": "nB1N0rXk8WZ2"
      },
      "execution_count": null,
      "outputs": []
    },
    {
      "cell_type": "code",
      "source": [
        "## problem with header  or column name indentifying row\n",
        "## when column names are treated as row\n",
        "'''\n",
        " header = 1 means that the row is started from 1th row\n",
        " '''\n",
        "url = \"https://raw.githubusercontent.com/campusx-official/100-days-of-machine-learning/main/day15%20-%20working%20with%20csv%20files/test.csv\"\n",
        "req = requests.get(url, headers=headers)\n",
        "data = StringIO(req.text)\n",
        "df = pd.read_csv(data,header = 1)\n",
        "df"
      ],
      "metadata": {
        "id": "cxqhmkrc-BQr"
      },
      "execution_count": null,
      "outputs": []
    },
    {
      "cell_type": "code",
      "source": [
        "## wheN we Need Specific column \n",
        "url = \"https://raw.githubusercontent.com/campusx-official/100-days-of-machine-learning/main/day15%20-%20working%20with%20csv%20files/test.csv\"\n",
        "req = requests.get(url, headers=headers)\n",
        "data = StringIO(req.text)\n",
        "df = pd.read_csv(data,header = 1,usecols=['enrollee_id','gender','experience'])\n",
        "df\n"
      ],
      "metadata": {
        "id": "WOIdlYEc_MFO"
      },
      "execution_count": null,
      "outputs": []
    },
    {
      "cell_type": "code",
      "source": [
        "## wheN we Need sPecifically oNe columN aNd coNvert dataframe to dataseries theN\n",
        "url = \"https://raw.githubusercontent.com/campusx-official/100-days-of-machine-learning/main/day15%20-%20working%20with%20csv%20files/test.csv\"\n",
        "req = requests.get(url, headers=headers)\n",
        "data = StringIO(req.text)\n",
        "df = pd.read_csv(data,header = 1,usecols=['enrollee_id'],squeeze=True)\n",
        "df\n",
        "  "
      ],
      "metadata": {
        "id": "tRNkIPJ_AiES"
      },
      "execution_count": null,
      "outputs": []
    },
    {
      "cell_type": "markdown",
      "source": [
        "Skip rows and nrows \n",
        "skip rows  when we need the data with skip some of the rows then use the skiprows=[] array of the rows no \n",
        "in skiprows we can combine a function with it lambda function\n",
        "nrows is define the number of rows to be extract "
      ],
      "metadata": {
        "id": "IEBUU3qWC-Ol"
      }
    },
    {
      "cell_type": "code",
      "source": [
        "## encoding format error handling\n",
        "''' if encoding is not utf-8 then you have to specify the encoding char code\n",
        "'''\n",
        "\n",
        "url = \"https://raw.githubusercontent.com/campusx-official/100-days-of-machine-learning/main/day15%20-%20working%20with%20csv%20files/zomato.csv\"\n",
        "req = requests.get(url, headers=headers)\n",
        "data = StringIO(req.text)\n",
        "df = pd.read_csv(data,encoding = 'latin-1')\n",
        "df"
      ],
      "metadata": {
        "id": "GsDmlA-GElv-"
      },
      "execution_count": null,
      "outputs": []
    },
    {
      "cell_type": "code",
      "source": [
        "## handlig parser error using error_bad_lines=false or on_bad_lines = 'skip'\n",
        "## both works fine\n",
        "\n",
        "DataFrame = pd.read_csv('BX-Books.csv', sep=';', encoding = 'latin-1', error_bad_lines=False)\n",
        "DataFrame"
      ],
      "metadata": {
        "id": "j5_55L2gqpX0"
      },
      "execution_count": null,
      "outputs": []
    },
    {
      "cell_type": "code",
      "source": [
        "## workig with dtypes parameter\n",
        "\n",
        "url = \"https://raw.githubusercontent.com/campusx-official/100-days-of-machine-learning/main/day15%20-%20working%20with%20csv%20files/aug_train.csv\"\n",
        "req = requests.get(url, headers=headers)\n",
        "data = StringIO(req.text)\n",
        "df = pd.read_csv(data,dtype={'target':int})\n",
        "df.info()"
      ],
      "metadata": {
        "id": "6Mofw-cY82Xv"
      },
      "execution_count": null,
      "outputs": []
    },
    {
      "cell_type": "code",
      "source": [
        "## handling dates\n",
        "url = \"https://raw.githubusercontent.com/campusx-official/100-days-of-machine-learning/main/day15%20-%20working%20with%20csv%20files/IPL%20Matches%202008-2020.csv\"\n",
        "req = requests.get(url, headers=headers)\n",
        "data = StringIO(req.text)\n",
        "df = pd.read_csv(data,parse_dates=['date'])\n",
        "df"
      ],
      "metadata": {
        "id": "6sWIourzIbSf"
      },
      "execution_count": null,
      "outputs": []
    },
    {
      "cell_type": "code",
      "source": [
        "## convertors\n",
        "# creating converting function\n",
        "def rename(name):\n",
        "    if name == 'Royal Challengers Bangalore':\n",
        "      return 'RCB'\n",
        "    else :\n",
        "      return name\n",
        "url = \"https://raw.githubusercontent.com/campusx-official/100-days-of-machine-learning/main/day15%20-%20working%20with%20csv%20files/IPL%20Matches%202008-2020.csv\"\n",
        "req = requests.get(url, headers=headers)\n",
        "data = StringIO(req.text)\n",
        "df = pd.read_csv(data,converters={'team1':rename})\n",
        "## null  values\n",
        "data = StringIO(req.text)\n",
        "df = pd.read_csv(data,na_values=['Dubai','Abu Dhabi'])\n",
        "df\n"
      ],
      "metadata": {
        "id": "Ifx3wUbDJ0mH"
      },
      "execution_count": null,
      "outputs": []
    },
    {
      "cell_type": "code",
      "source": [
        "## loading large dataset into chunks\n",
        "url = \"https://raw.githubusercontent.com/campusx-official/100-days-of-machine-learning/main/day15%20-%20working%20with%20csv%20files/aug_train.csv\"\n",
        "req = requests.get(url, headers=headers)\n",
        "data = StringIO(req.text)\n",
        "df = pd.read_csv(data,chunksize=5000)\n",
        "for chunks in df :\n",
        "    print(chunks.shape)"
      ],
      "metadata": {
        "id": "JGDlymVCMq30"
      },
      "execution_count": null,
      "outputs": []
    }
  ]
}